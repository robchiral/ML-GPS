{
 "cells": [
  {
   "cell_type": "code",
   "execution_count": null,
   "metadata": {},
   "outputs": [],
   "source": [
    "import pandas as pd"
   ]
  },
  {
   "cell_type": "code",
   "execution_count": null,
   "metadata": {},
   "outputs": [
    {
     "name": "stdout",
     "output_type": "stream",
     "text": [
      "OT all 4987 1554 46176.0\n",
      "OT phecodes 1286 961 8870.0\n",
      "SD all 908 823 13601.0\n",
      "SD phecodes 424 548 3752.0\n",
      "78\n",
      "79\n"
     ]
    }
   ],
   "source": [
    "oe = pd.read_csv('./Raw files/gnomad_v4_constraint.tsv', sep='\\t')\n",
    "oe = oe.sort_values(['gene','mane_select'], ascending=[True,False])\n",
    "oe = oe[['gene','lof.oe','lof.oe_ci.upper']].drop_duplicates('gene').rename({'lof.oe':'oe','lof.oe_ci.upper':'loeuf'},axis=1)\n",
    "cv = pd.read_pickle('./Cleaned files/cv.pkl')\n",
    "cv_dir = pd.read_pickle('./Cleaned files/cv_dir.pkl')\n",
    "l2g = pd.read_pickle('./Cleaned files/l2g.pkl')\n",
    "l2g_dir = pd.read_pickle('./Cleaned files/l2g_dir.pkl')\n",
    "apd = pd.read_pickle('./Cleaned files/apd.pkl')\n",
    "apdz = pd.read_pickle('./Cleaned files/apdz.pkl')\n",
    "apdz_dir = pd.read_pickle('./Cleaned files/apdz_dir.pkl')\n",
    "\n",
    "phecodes = pd.read_excel('./Phecode/phecode_counts_v2.xlsx')\n",
    "phecodes = phecodes.loc[phecodes['include'] == 'Y']['phecode'].unique()\n",
    "\n",
    "ot = pd.read_pickle('./Cleaned files/opentargets.pkl').sort_values(['id','phecode','gene','phase'], ascending=False).drop_duplicates(['id','phecode','gene'])\n",
    "ot.loc[ot['phase'] > 0, 'indication'] = 1\n",
    "ot = ot.sort_values(['id','gene','moa']).drop_duplicates()\n",
    "ot.loc[ot['moa'] == 'inhibitor', 'inhibitor'] = 1\n",
    "ot.loc[ot['moa'] == 'activator', 'activator'] = 1\n",
    "ot = ot.drop('moa',axis=1)\n",
    "print('OT all', ot['id'].nunique(), ot['gene'].nunique(), ot['indication'].sum())\n",
    "temp = ot.loc[ot['phecode'].isin(phecodes)]\n",
    "print('OT phecodes', temp['id'].nunique(), temp['gene'].nunique(), temp['indication'].sum())\n",
    "\n",
    "sd = pd.read_pickle('./Cleaned files/sider.pkl').sort_values(['id','phecode','gene'], ascending=False).drop_duplicates(['id','phecode','gene'])\n",
    "sd.loc[sd['phecode'].notna(), 'indication'] = 1\n",
    "sd.loc[sd['phecode'].notna(), 'phase'] = 4\n",
    "sd.loc[sd['moa'] == 'inhibitor', 'inhibitor'] = 1\n",
    "sd.loc[sd['moa'] == 'activator', 'activator'] = 1\n",
    "sd = sd.drop('moa',axis=1)\n",
    "print('SD all', sd['id'].nunique(), sd['gene'].nunique(), sd['indication'].sum())\n",
    "temp = sd.loc[sd['phecode'].isin(phecodes)]\n",
    "print('SD phecodes', temp['id'].nunique(), temp['gene'].nunique(), temp['indication'].sum())\n",
    "\n",
    "otu = ot[['gene']].drop_duplicates()\n",
    "otp = list(ot['phecode'].dropna().unique())\n",
    "otu = pd.concat([otu.assign(phecode=value) for value in otp], ignore_index=True)\n",
    "otu = otu.loc[otu['phecode'].isin(phecodes)]\n",
    "otu = otu.merge(ot.loc[ot['indication'] == 1].groupby(['gene','phecode'])['id'].nunique().reset_index().rename({'id':'n_drugs'},axis=1), how='left')\n",
    "otu = otu.merge(ot.sort_values('phase', ascending=False).drop_duplicates(['gene','phecode'])[['gene','phecode','indication','phase','inhibitor','activator']], how='left')\n",
    "otu.loc[otu['phase'] == 0.5, 'phase'] = 1\n",
    "otu.loc[otu['phase'] == -1, 'phase'] = 0\n",
    "\n",
    "sdu = sd[['gene']].drop_duplicates()\n",
    "sdp = list(sd['phecode'].dropna().unique())\n",
    "sdu = pd.concat([sdu.assign(phecode=value) for value in sdp], ignore_index=True)\n",
    "sdu = sdu.loc[sdu['phecode'].isin(phecodes)]\n",
    "sdu = sdu.merge(sd.loc[sd['indication'] == 1].groupby(['gene','phecode'])['id'].nunique().reset_index().rename({'id':'n_drugs'},axis=1), how='left')\n",
    "sdu = sdu.merge(sd.sort_values('phase', ascending=False).drop_duplicates(['gene','phecode'])[['gene','phecode','indication','phase','inhibitor','activator']], how='left')\n",
    "\n",
    "print(otu['phecode'].nunique())\n",
    "print(sdu['phecode'].nunique())\n"
   ]
  },
  {
   "cell_type": "code",
   "execution_count": null,
   "metadata": {},
   "outputs": [],
   "source": [
    "gc = cv.merge(cv_dir, on=['phecode','gene'], how='outer').merge(l2g, on=['phecode','gene'], how='outer')\\\n",
    "        .merge(l2g_dir, on=['phecode','gene'], how='outer').merge(apd, on=['phecode','gene'], how='outer')\\\n",
    "        .merge(apdz, on=['phecode','gene'], how='outer').merge(apdz_dir, on=['phecode','gene'], how='outer').drop_duplicates()\n",
    "\n",
    "otu = otu.merge(gc, on=['phecode','gene'], how='left').merge(oe[['gene','oe']], how='left')\n",
    "otu.loc[otu['oe'].isna(), 'oe'] = otu['oe'].median()\n",
    "otu = otu.join(pd.get_dummies(otu['phecode'].str[:2]).astype(int)).drop_duplicates()\n",
    "otu = otu.fillna(0)\n",
    "otu.loc[(otu['p_g'] == 0) & (otu['c_g'] == 1), 'c_only_g'] = 1\n",
    "otu.loc[(otu['p_e'] == 0) & (otu['c_e'] == 1), 'c_only_e'] = 1\n",
    "otu.loc[(otu['p_b'] == 0) & (otu['c_b'] == 1), 'c_only_b'] = 1\n",
    "otu.loc[(otu['p_g'] == 0) & (otu['b_g'] == 1), 'b_only_g'] = 1\n",
    "otu.loc[(otu['p_e'] == 0) & (otu['b_e'] == 1), 'b_only_e'] = 1\n",
    "otu.loc[(otu['p_b'] == 0) & (otu['b_b'] == 1), 'b_only_b'] = 1\n",
    "otu = otu.fillna(0)\n",
    "otu.to_csv('./Datasets/ot_input.csv', index=None)\n",
    "\n",
    "sdu = sdu.merge(gc, on=['phecode','gene'], how='left').merge(oe[['gene','oe']], how='left')\n",
    "sdu.loc[sdu['oe'].isna(), 'oe'] = sdu['oe'].median()\n",
    "sdu = sdu.join(pd.get_dummies(sdu['phecode'].str[:2]).astype(int)).drop_duplicates()\n",
    "sdu = sdu.fillna(0)\n",
    "sdu.loc[(sdu['p_g'] == 0) & (sdu['c_g'] == 1), 'c_only_g'] = 1\n",
    "sdu.loc[(sdu['p_e'] == 0) & (sdu['c_e'] == 1), 'c_only_e'] = 1\n",
    "sdu.loc[(sdu['p_b'] == 0) & (sdu['c_b'] == 1), 'c_only_b'] = 1\n",
    "sdu.loc[(sdu['p_g'] == 0) & (sdu['b_g'] == 1), 'b_only_g'] = 1\n",
    "sdu.loc[(sdu['p_e'] == 0) & (sdu['b_e'] == 1), 'b_only_e'] = 1\n",
    "sdu.loc[(sdu['p_b'] == 0) & (sdu['b_b'] == 1), 'b_only_b'] = 1\n",
    "sdu = sdu.fillna(0)\n",
    "sdu.to_csv('./Datasets/sider_input.csv', index=None)\n",
    "\n",
    "all_gp = gc.drop_duplicates(['gene','phecode']).fillna(0)\n",
    "all_gp = all_gp.loc[all_gp['phecode'].isin(phecodes)]\n",
    "all_gp.to_csv('./Datasets/all_gp.csv', index=False)"
   ]
  }
 ],
 "metadata": {
  "kernelspec": {
   "display_name": "Python 3",
   "language": "python",
   "name": "python3"
  },
  "language_info": {
   "codemirror_mode": {
    "name": "ipython",
    "version": 3
   },
   "file_extension": ".py",
   "mimetype": "text/x-python",
   "name": "python",
   "nbconvert_exporter": "python",
   "pygments_lexer": "ipython3",
   "version": "3.11.6"
  }
 },
 "nbformat": 4,
 "nbformat_minor": 2
}
